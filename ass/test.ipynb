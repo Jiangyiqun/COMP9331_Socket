{
 "cells": [
  {
   "cell_type": "code",
   "execution_count": 33,
   "metadata": {},
   "outputs": [
    {
     "name": "stdout",
     "output_type": "stream",
     "text": [
      "b'\\x01'\n",
      "b'\\x01hello world'\n",
      "1\n",
      "b'hello world'\n"
     ]
    }
   ],
   "source": [
    "a = b\"hello world\"\n",
    "b = bytes([1])\n",
    "print(b)\n",
    "all = b + a\n",
    "print(all)\n",
    "b1 = all[0]\n",
    "a1 = all[1:]\n",
    "print(b1)\n",
    "print(a1)"
   ]
  },
  {
   "cell_type": "code",
   "execution_count": 30,
   "metadata": {},
   "outputs": [
    {
     "data": {
      "text/plain": [
       "b'\\x03'"
      ]
     },
     "execution_count": 30,
     "metadata": {},
     "output_type": "execute_result"
    }
   ],
   "source": [
    "bytes([3])"
   ]
  },
  {
   "cell_type": "code",
   "execution_count": 39,
   "metadata": {},
   "outputs": [
    {
     "name": "stdout",
     "output_type": "stream",
     "text": [
      "0b1101000\n",
      "0b1100101\n",
      "0b1101100\n",
      "0b1101100\n",
      "0b1101111\n",
      "0b100000\n",
      "0b1110111\n",
      "0b1101111\n",
      "0b1110010\n",
      "0b1101100\n",
      "0b1100100\n",
      "0b00b11010000b11001010b11011000b11011000b11011110b1000000b11101110b11011110b11100100b11011000b1100100\n"
     ]
    }
   ],
   "source": [
    "a = b\"hello world\"\n",
    "s = bin(0)\n",
    "for i in a:\n",
    "    s += bin(i)\n",
    "    print(bin(i))\n",
    "print(s)"
   ]
  },
  {
   "cell_type": "code",
   "execution_count": 40,
   "metadata": {},
   "outputs": [
    {
     "ename": "UnicodeDecodeError",
     "evalue": "'utf-8' codec can't decode byte 0xe2 in position 11: invalid continuation byte",
     "output_type": "error",
     "traceback": [
      "\u001b[0;31m-----------------------------------------------------------\u001b[0m",
      "\u001b[0;31mUnicodeDecodeError\u001b[0m        Traceback (most recent call last)",
      "\u001b[0;32m<ipython-input-40-3f2a7ab5b5e6>\u001b[0m in \u001b[0;36m<module>\u001b[0;34m()\u001b[0m\n\u001b[1;32m      1\u001b[0m \u001b[0mx\u001b[0m \u001b[0;34m=\u001b[0m \u001b[0;34mb'%PDF-1.3\\r\\n%\\xe2\\xe3\\xcf\\xd3\\r\\n\\r\\n1 0 obj\\r\\n<<\\r\\n/Type /Catalog\\r\\n/Outlines 2 0 R\\r\\n/Pages 3 0 R\\r\\n>>\\r\\nendobj\\r\\n\\r\\n2 0 obj\\r\\n<<\\r\\n/Type /Outlines\\r\\n/Count 0\\r\\n>>\\r\\nendobj\\r\\n\\r\\n3 0 obj\\r\\n<<\\r\\n/Type /Pages\\r\\n/Count 2\\r\\n/Kids [ 4 0 R 6 0 R ] \\r\\n>>\\r\\nendobj\\r\\n\\r\\n4 0 obj\\r\\n<<\\r\\n/Type /Page\\r\\n/Parent 3 0 R\\r\\n/Resources <<\\r\\n/Font <<\\r\\n/F1 9 0 R \\r\\n>>\\r\\n/ProcSet 8 0 R\\r\\n>>\\r\\n/MediaBox [0 0 612.0000 792.0000]\\r\\n/Contents 5 0 R\\r\\n>>\\r\\nendobj\\r\\n\\r\\n5 0 obj\\r\\n<< /Length 1074 >>\\r\\nstream\\r\\n2 J\\r\\nBT\\r\\n0 0 0 rg\\r\\n/F1 0027 Tf\\r\\n57.3750 722.2800 Td\\r\\n( A Simple PDF File ) Tj\\r\\nET\\r\\nBT'\u001b[0m\u001b[0;34m\u001b[0m\u001b[0m\n\u001b[0;32m----> 2\u001b[0;31m \u001b[0mp\u001b[0m \u001b[0;34m=\u001b[0m \u001b[0mx\u001b[0m\u001b[0;34m.\u001b[0m\u001b[0mdecode\u001b[0m\u001b[0;34m(\u001b[0m\u001b[0;34m'utf-8'\u001b[0m\u001b[0;34m)\u001b[0m\u001b[0;34m\u001b[0m\u001b[0m\n\u001b[0m",
      "\u001b[0;31mUnicodeDecodeError\u001b[0m: 'utf-8' codec can't decode byte 0xe2 in position 11: invalid continuation byte"
     ]
    }
   ],
   "source": [
    "x = b'%PDF-1.3\\r\\n%\\xe2\\xe3\\xcf\\xd3\\r\\n\\r\\n1 0 obj\\r\\n<<\\r\\n/Type /Catalog\\r\\n/Outlines 2 0 R\\r\\n/Pages 3 0 R\\r\\n>>\\r\\nendobj\\r\\n\\r\\n2 0 obj\\r\\n<<\\r\\n/Type /Outlines\\r\\n/Count 0\\r\\n>>\\r\\nendobj\\r\\n\\r\\n3 0 obj\\r\\n<<\\r\\n/Type /Pages\\r\\n/Count 2\\r\\n/Kids [ 4 0 R 6 0 R ] \\r\\n>>\\r\\nendobj\\r\\n\\r\\n4 0 obj\\r\\n<<\\r\\n/Type /Page\\r\\n/Parent 3 0 R\\r\\n/Resources <<\\r\\n/Font <<\\r\\n/F1 9 0 R \\r\\n>>\\r\\n/ProcSet 8 0 R\\r\\n>>\\r\\n/MediaBox [0 0 612.0000 792.0000]\\r\\n/Contents 5 0 R\\r\\n>>\\r\\nendobj\\r\\n\\r\\n5 0 obj\\r\\n<< /Length 1074 >>\\r\\nstream\\r\\n2 J\\r\\nBT\\r\\n0 0 0 rg\\r\\n/F1 0027 Tf\\r\\n57.3750 722.2800 Td\\r\\n( A Simple PDF File ) Tj\\r\\nET\\r\\nBT'\n",
    "p = x.decode('utf-8')"
   ]
  },
  {
   "cell_type": "code",
   "execution_count": 48,
   "metadata": {},
   "outputs": [
    {
     "name": "stdout",
     "output_type": "stream",
     "text": [
      "a= 103\n",
      "b= 111\n",
      "a= 116\n",
      "b= 111\n",
      "0b10000100100100\n"
     ]
    }
   ],
   "source": [
    "def chksum(msg):\n",
    "    s = 0       # Binary Sum\n",
    "\n",
    "    # loop taking 2 characters at a time\n",
    "    for i in range(0, len(msg), 2):\n",
    "        if (i+1) < len(msg):\n",
    "            a = ord(msg[i]) \n",
    "            b = ord(msg[i+1])\n",
    "            print(\"a=\", a)\n",
    "            print(\"b=\", b)\n",
    "            s = s + (a+(b << 8))\n",
    "        elif (i+1)==len(msg):\n",
    "            s += ord(msg[i])\n",
    "        else:\n",
    "            raise \"Something Wrong here\"\n",
    "\n",
    "\n",
    "    # One's Complement\n",
    "    s = s + (s >> 16)\n",
    "    s = ~s & 0xffff\n",
    "\n",
    "    return bin(s)\n",
    "\n",
    "msg = \"goto\"\n",
    "print(chksum(msg))"
   ]
  },
  {
   "cell_type": "code",
   "execution_count": 53,
   "metadata": {},
   "outputs": [
    {
     "name": "stdout",
     "output_type": "stream",
     "text": [
      "<class 'int'>\n",
      "8484\n"
     ]
    }
   ],
   "source": [
    "def chksum(msg):\n",
    "    s = 0       # Binary Sum\n",
    "\n",
    "    # loop taking 2 characters at a time\n",
    "    for i in range(0, len(msg), 2):\n",
    "        if (i+1) < len(msg):\n",
    "            a = msg[i]\n",
    "            b = msg[i+1]\n",
    "            s = s + (a+(b << 8))\n",
    "        elif (i+1)==len(msg):\n",
    "            s += ord(msg[i])\n",
    "        else:\n",
    "            raise \"Something Wrong here\"\n",
    "\n",
    "\n",
    "    # One's Complement\n",
    "    s = s + (s >> 16)\n",
    "    s = ~s & 0xffff\n",
    "\n",
    "    return s\n",
    "\n",
    "msg = b\"goto\"\n",
    "print(type(chksum(msg)))\n",
    "print(chksum(msg))"
   ]
  },
  {
   "cell_type": "code",
   "execution_count": 55,
   "metadata": {},
   "outputs": [
    {
     "ename": "ValueError",
     "evalue": "bytes must be in range(0, 256)",
     "output_type": "error",
     "traceback": [
      "\u001b[0;31m-----------------------------------------------------------\u001b[0m",
      "\u001b[0;31mValueError\u001b[0m                Traceback (most recent call last)",
      "\u001b[0;32m<ipython-input-55-c3aec31fe9c7>\u001b[0m in \u001b[0;36m<module>\u001b[0;34m()\u001b[0m\n\u001b[1;32m      1\u001b[0m \u001b[0ma\u001b[0m \u001b[0;34m=\u001b[0m \u001b[0;36m23553\u001b[0m\u001b[0;34m\u001b[0m\u001b[0m\n\u001b[0;32m----> 2\u001b[0;31m \u001b[0mprint\u001b[0m\u001b[0;34m(\u001b[0m\u001b[0mbytes\u001b[0m\u001b[0;34m(\u001b[0m\u001b[0;34m[\u001b[0m\u001b[0;36m23553\u001b[0m\u001b[0;34m]\u001b[0m\u001b[0;34m)\u001b[0m\u001b[0;34m)\u001b[0m\u001b[0;34m\u001b[0m\u001b[0m\n\u001b[0m",
      "\u001b[0;31mValueError\u001b[0m: bytes must be in range(0, 256)"
     ]
    }
   ],
   "source": [
    "a = 23553\n",
    "print(bytes([23553]))"
   ]
  },
  {
   "cell_type": "code",
   "execution_count": 61,
   "metadata": {},
   "outputs": [
    {
     "name": "stdout",
     "output_type": "stream",
     "text": [
      "0b101110000000001\n",
      "0b1011100\n",
      "0b1\n"
     ]
    }
   ],
   "source": [
    "print(bin(23553))\n",
    "print(bin(23553 // 256))\n",
    "print(bin(23553 % 256))"
   ]
  },
  {
   "cell_type": "code",
   "execution_count": null,
   "metadata": {},
   "outputs": [],
   "source": []
  },
  {
   "cell_type": "code",
   "execution_count": 1,
   "metadata": {},
   "outputs": [
    {
     "ename": "NameError",
     "evalue": "name 'dd' is not defined",
     "output_type": "error",
     "traceback": [
      "\u001b[0;31m---------------------------------------------------------------------------\u001b[0m",
      "\u001b[0;31mNameError\u001b[0m                                 Traceback (most recent call last)",
      "\u001b[0;32m<ipython-input-1-06f342d4bc0b>\u001b[0m in \u001b[0;36m<module>\u001b[0;34m\u001b[0m\n\u001b[0;32m----> 1\u001b[0;31m \u001b[0mdd\u001b[0m\u001b[0;34m\u001b[0m\u001b[0m\n\u001b[0m",
      "\u001b[0;31mNameError\u001b[0m: name 'dd' is not defined"
     ]
    }
   ],
   "source": [
    "dd"
   ]
  },
  {
   "cell_type": "code",
   "execution_count": 7,
   "metadata": {},
   "outputs": [
    {
     "data": {
      "text/plain": [
       "b'\\x04\\x05\\x06\\x07'"
      ]
     },
     "execution_count": 7,
     "metadata": {},
     "output_type": "execute_result"
    }
   ],
   "source": [
    "a = bytes([0, 1,2 ,3,4, 5,6,7,8,9,10])\n",
    "a[0:4]"
   ]
  },
  {
   "cell_type": "code",
   "execution_count": 4,
   "metadata": {},
   "outputs": [
    {
     "name": "stdout",
     "output_type": "stream",
     "text": [
      "True\n"
     ]
    }
   ],
   "source": [
    "print((0,1)==(0,1))"
   ]
  },
  {
   "cell_type": "code",
   "execution_count": 8,
   "metadata": {},
   "outputs": [
    {
     "ename": "AttributeError",
     "evalue": "'bytes' object has no attribute 'to_int'",
     "output_type": "error",
     "traceback": [
      "\u001b[0;31m---------------------------------------------------------------------------\u001b[0m",
      "\u001b[0;31mAttributeError\u001b[0m                            Traceback (most recent call last)",
      "\u001b[0;32m<ipython-input-8-9c2e85f6a32c>\u001b[0m in \u001b[0;36m<module>\u001b[0;34m()\u001b[0m\n\u001b[0;32m----> 1\u001b[0;31m \u001b[0mb\u001b[0m \u001b[0;34m=\u001b[0m \u001b[0;34mb'\\x00\\x00%PDF'\u001b[0m\u001b[0;34m.\u001b[0m\u001b[0mto_int\u001b[0m\u001b[0;34m(\u001b[0m\u001b[0;34m)\u001b[0m\u001b[0;34m\u001b[0m\u001b[0m\n\u001b[0m\u001b[1;32m      2\u001b[0m \u001b[0mb\u001b[0m\u001b[0;34m[\u001b[0m\u001b[0;36m0\u001b[0m\u001b[0;34m:\u001b[0m\u001b[0;36m1\u001b[0m\u001b[0;34m]\u001b[0m\u001b[0;34m\u001b[0m\u001b[0m\n",
      "\u001b[0;31mAttributeError\u001b[0m: 'bytes' object has no attribute 'to_int'"
     ]
    }
   ],
   "source": [
    "b = b'\\x00\\x00%PDF'.to_int()\n",
    "b[0:1]"
   ]
  },
  {
   "cell_type": "code",
   "execution_count": 12,
   "metadata": {},
   "outputs": [
    {
     "data": {
      "text/plain": [
       "b'\\x00\\x00'"
      ]
     },
     "execution_count": 12,
     "metadata": {},
     "output_type": "execute_result"
    }
   ],
   "source": [
    "bytes([0, 0])"
   ]
  },
  {
   "cell_type": "code",
   "execution_count": 10,
   "metadata": {},
   "outputs": [
    {
     "data": {
      "text/plain": [
       "b'\\x00\\x00\\xff\\xff'"
      ]
     },
     "execution_count": 10,
     "metadata": {},
     "output_type": "execute_result"
    }
   ],
   "source": [
    "def int_to_bytes(value, length):\n",
    "    result = []\n",
    "\n",
    "    for i in range(0, length):\n",
    "        result.append(value >> (i * 8) & 0xff)\n",
    "\n",
    "    result.reverse()\n",
    "\n",
    "    return bytes(result)\n",
    "\n",
    "int_to_bytes(65535, 4)"
   ]
  },
  {
   "cell_type": "code",
   "execution_count": 12,
   "metadata": {},
   "outputs": [
    {
     "data": {
      "text/plain": [
       "65535"
      ]
     },
     "execution_count": 12,
     "metadata": {},
     "output_type": "execute_result"
    }
   ],
   "source": [
    "a = b'\\x00\\x00\\xff\\xff'\n",
    "\n",
    "def bytes_to_int(bytes):\n",
    "    result = 0\n",
    "\n",
    "    for b in bytes:\n",
    "        result = result * 256 + int(b)\n",
    "\n",
    "    return result\n",
    "\n",
    "bytes_to_int(a)"
   ]
  },
  {
   "cell_type": "code",
   "execution_count": 21,
   "metadata": {},
   "outputs": [
    {
     "ename": "timeout",
     "evalue": "timed out",
     "output_type": "error",
     "traceback": [
      "\u001b[0;31m---------------------------------------------------------------------------\u001b[0m",
      "\u001b[0;31mtimeout\u001b[0m                                   Traceback (most recent call last)",
      "\u001b[0;32m<ipython-input-21-59d54fcb98e8>\u001b[0m in \u001b[0;36m<module>\u001b[0;34m()\u001b[0m\n\u001b[1;32m      2\u001b[0m \u001b[0msock\u001b[0m \u001b[0;34m=\u001b[0m \u001b[0msocket\u001b[0m\u001b[0;34m.\u001b[0m\u001b[0msocket\u001b[0m\u001b[0;34m(\u001b[0m\u001b[0msocket\u001b[0m\u001b[0;34m.\u001b[0m\u001b[0mAF_INET\u001b[0m\u001b[0;34m,\u001b[0m \u001b[0msocket\u001b[0m\u001b[0;34m.\u001b[0m\u001b[0mSOCK_DGRAM\u001b[0m\u001b[0;34m)\u001b[0m\u001b[0;34m\u001b[0m\u001b[0m\n\u001b[1;32m      3\u001b[0m \u001b[0msock\u001b[0m\u001b[0;34m.\u001b[0m\u001b[0msettimeout\u001b[0m\u001b[0;34m(\u001b[0m\u001b[0;36m1\u001b[0m\u001b[0;34m)\u001b[0m\u001b[0;34m\u001b[0m\u001b[0m\n\u001b[0;32m----> 4\u001b[0;31m \u001b[0mpackage\u001b[0m\u001b[0;34m,\u001b[0m \u001b[0mreceiver_address\u001b[0m \u001b[0;34m=\u001b[0m \u001b[0msock\u001b[0m\u001b[0;34m.\u001b[0m\u001b[0mrecvfrom\u001b[0m\u001b[0;34m(\u001b[0m\u001b[0;36m128\u001b[0m\u001b[0;34m)\u001b[0m\u001b[0;34m\u001b[0m\u001b[0m\n\u001b[0m",
      "\u001b[0;31mtimeout\u001b[0m: timed out"
     ]
    }
   ],
   "source": [
    "import socket\n",
    "sock = socket.socket(socket.AF_INET, socket.SOCK_DGRAM)\n",
    "sock.settimeout(1)\n",
    "package, receiver_address = sock.recvfrom(128)"
   ]
  },
  {
   "cell_type": "code",
   "execution_count": 16,
   "metadata": {},
   "outputs": [
    {
     "data": {
      "text/plain": [
       "11"
      ]
     },
     "execution_count": 16,
     "metadata": {},
     "output_type": "execute_result"
    }
   ],
   "source": [
    "551 // 50"
   ]
  },
  {
   "cell_type": "code",
   "execution_count": 37,
   "metadata": {},
   "outputs": [
    {
     "name": "stdout",
     "output_type": "stream",
     "text": [
      "3\n",
      "1\n",
      "2\n",
      "3\n"
     ]
    }
   ],
   "source": [
    "a = {}\n",
    "a[1] = \"a\"\n",
    "a[2] = \"b\"\n",
    "a[3] = \"c\"\n",
    "\n",
    "for k in a:\n",
    "    if (k)"
   ]
  },
  {
   "cell_type": "code",
   "execution_count": 7,
   "metadata": {},
   "outputs": [
    {
     "name": "stdout",
     "output_type": "stream",
     "text": [
      "<Timer(Thread-775, initial)>\n",
      "<Timer(Thread-775, initial)>\n",
      "go on\n",
      "hello, world\n",
      "hello, world\n",
      "hello, world\n",
      "hello, world\n",
      "hello, world\n",
      "hello, world\n",
      "hello, world\n",
      "hello, world\n"
     ]
    }
   ],
   "source": [
    "import threading,time\n",
    "\n",
    "\n",
    "\n",
    "class x():\n",
    "    def __init__(self):\n",
    "        self.t = threading.Timer(None, None)\n",
    "        self.t.cancel()\n",
    "        print(self.t)\n",
    "        \n",
    "    def fun(self):\n",
    "        self.t.cancel()\n",
    "        print(self.t)\n",
    "        self.t = threading.Timer(1.0, self.hello)\n",
    "        self.t.start()\n",
    "    \n",
    "    def hello(self):\n",
    "        print(\"hello, world\")\n",
    "        self.t.cancel()\n",
    "        self.t = threading.Timer(1.0, self.hello)\n",
    "        self.t.start()\n",
    "go = x()\n",
    "go.fun()\n",
    "\n",
    "print(\"go on\")\n"
   ]
  },
  {
   "cell_type": "code",
   "execution_count": 54,
   "metadata": {},
   "outputs": [
    {
     "name": "stdout",
     "output_type": "stream",
     "text": [
      "[1, 2, 3, 4]\n"
     ]
    }
   ],
   "source": [
    "a = [1,2,4,3]\n",
    "print(sorted(a))\n"
   ]
  },
  {
   "cell_type": "code",
   "execution_count": 1,
   "metadata": {},
   "outputs": [
    {
     "name": "stdout",
     "output_type": "stream",
     "text": [
      "1539559060.63814\n"
     ]
    }
   ],
   "source": [
    "import time\n",
    "\n",
    "print(time.time())"
   ]
  },
  {
   "cell_type": "code",
   "execution_count": 3,
   "metadata": {},
   "outputs": [
    {
     "data": {
      "text/plain": [
       "0"
      ]
     },
     "execution_count": 3,
     "metadata": {},
     "output_type": "execute_result"
    }
   ],
   "source": [
    "0 // 20"
   ]
  },
  {
   "cell_type": "code",
   "execution_count": 6,
   "metadata": {},
   "outputs": [
    {
     "ename": "SyntaxError",
     "evalue": "invalid syntax (<ipython-input-6-6eaea3d823bd>, line 1)",
     "output_type": "error",
     "traceback": [
      "\u001b[0;36m  File \u001b[0;32m\"<ipython-input-6-6eaea3d823bd>\"\u001b[0;36m, line \u001b[0;32m1\u001b[0m\n\u001b[0;31m    print(range(,6))\u001b[0m\n\u001b[0m                ^\u001b[0m\n\u001b[0;31mSyntaxError\u001b[0m\u001b[0;31m:\u001b[0m invalid syntax\n"
     ]
    }
   ],
   "source": [
    "print(range(,6))"
   ]
  },
  {
   "cell_type": "code",
   "execution_count": 7,
   "metadata": {},
   "outputs": [
    {
     "data": {
      "text/plain": [
       "b''"
      ]
     },
     "execution_count": 7,
     "metadata": {},
     "output_type": "execute_result"
    }
   ],
   "source": [
    "bytes()"
   ]
  },
  {
   "cell_type": "code",
   "execution_count": 10,
   "metadata": {},
   "outputs": [
    {
     "name": "stdout",
     "output_type": "stream",
     "text": [
      "go\n"
     ]
    }
   ],
   "source": [
    "if (1):\n",
    "    print(\"go\")"
   ]
  },
  {
   "cell_type": "code",
   "execution_count": 18,
   "metadata": {},
   "outputs": [
    {
     "data": {
      "text/plain": [
       "1"
      ]
     },
     "execution_count": 18,
     "metadata": {},
     "output_type": "execute_result"
    }
   ],
   "source": [
    "from collections import defaultdict\n",
    "\n",
    "s = defaultdict(int)\n",
    "s['food'] += 1\n",
    "s['food']"
   ]
  },
  {
   "cell_type": "code",
   "execution_count": null,
   "metadata": {},
   "outputs": [],
   "source": [
    "\n"
   ]
  }
 ],
 "metadata": {
  "kernelspec": {
   "display_name": "Python 3",
   "language": "python",
   "name": "python3"
  },
  "language_info": {
   "codemirror_mode": {
    "name": "ipython",
    "version": 3
   },
   "file_extension": ".py",
   "mimetype": "text/x-python",
   "name": "python",
   "nbconvert_exporter": "python",
   "pygments_lexer": "ipython3",
   "version": "3.6.5"
  }
 },
 "nbformat": 4,
 "nbformat_minor": 2
}
