{
 "cells": [
  {
   "cell_type": "code",
   "execution_count": 33,
   "metadata": {},
   "outputs": [
    {
     "name": "stdout",
     "output_type": "stream",
     "text": [
      "b'\\x01'\n",
      "b'\\x01hello world'\n",
      "1\n",
      "b'hello world'\n"
     ]
    }
   ],
   "source": [
    "a = b\"hello world\"\n",
    "b = bytes([1])\n",
    "print(b)\n",
    "all = b + a\n",
    "print(all)\n",
    "b1 = all[0]\n",
    "a1 = all[1:]\n",
    "print(b1)\n",
    "print(a1)"
   ]
  },
  {
   "cell_type": "code",
   "execution_count": 30,
   "metadata": {},
   "outputs": [
    {
     "data": {
      "text/plain": [
       "b'\\x03'"
      ]
     },
     "execution_count": 30,
     "metadata": {},
     "output_type": "execute_result"
    }
   ],
   "source": [
    "bytes([3])"
   ]
  },
  {
   "cell_type": "code",
   "execution_count": 39,
   "metadata": {},
   "outputs": [
    {
     "name": "stdout",
     "output_type": "stream",
     "text": [
      "0b1101000\n",
      "0b1100101\n",
      "0b1101100\n",
      "0b1101100\n",
      "0b1101111\n",
      "0b100000\n",
      "0b1110111\n",
      "0b1101111\n",
      "0b1110010\n",
      "0b1101100\n",
      "0b1100100\n",
      "0b00b11010000b11001010b11011000b11011000b11011110b1000000b11101110b11011110b11100100b11011000b1100100\n"
     ]
    }
   ],
   "source": [
    "a = b\"hello world\"\n",
    "s = bin(0)\n",
    "for i in a:\n",
    "    s += bin(i)\n",
    "    print(bin(i))\n",
    "print(s)"
   ]
  },
  {
   "cell_type": "code",
   "execution_count": 40,
   "metadata": {},
   "outputs": [
    {
     "ename": "UnicodeDecodeError",
     "evalue": "'utf-8' codec can't decode byte 0xe2 in position 11: invalid continuation byte",
     "output_type": "error",
     "traceback": [
      "\u001b[0;31m-----------------------------------------------------------\u001b[0m",
      "\u001b[0;31mUnicodeDecodeError\u001b[0m        Traceback (most recent call last)",
      "\u001b[0;32m<ipython-input-40-3f2a7ab5b5e6>\u001b[0m in \u001b[0;36m<module>\u001b[0;34m()\u001b[0m\n\u001b[1;32m      1\u001b[0m \u001b[0mx\u001b[0m \u001b[0;34m=\u001b[0m \u001b[0;34mb'%PDF-1.3\\r\\n%\\xe2\\xe3\\xcf\\xd3\\r\\n\\r\\n1 0 obj\\r\\n<<\\r\\n/Type /Catalog\\r\\n/Outlines 2 0 R\\r\\n/Pages 3 0 R\\r\\n>>\\r\\nendobj\\r\\n\\r\\n2 0 obj\\r\\n<<\\r\\n/Type /Outlines\\r\\n/Count 0\\r\\n>>\\r\\nendobj\\r\\n\\r\\n3 0 obj\\r\\n<<\\r\\n/Type /Pages\\r\\n/Count 2\\r\\n/Kids [ 4 0 R 6 0 R ] \\r\\n>>\\r\\nendobj\\r\\n\\r\\n4 0 obj\\r\\n<<\\r\\n/Type /Page\\r\\n/Parent 3 0 R\\r\\n/Resources <<\\r\\n/Font <<\\r\\n/F1 9 0 R \\r\\n>>\\r\\n/ProcSet 8 0 R\\r\\n>>\\r\\n/MediaBox [0 0 612.0000 792.0000]\\r\\n/Contents 5 0 R\\r\\n>>\\r\\nendobj\\r\\n\\r\\n5 0 obj\\r\\n<< /Length 1074 >>\\r\\nstream\\r\\n2 J\\r\\nBT\\r\\n0 0 0 rg\\r\\n/F1 0027 Tf\\r\\n57.3750 722.2800 Td\\r\\n( A Simple PDF File ) Tj\\r\\nET\\r\\nBT'\u001b[0m\u001b[0;34m\u001b[0m\u001b[0m\n\u001b[0;32m----> 2\u001b[0;31m \u001b[0mp\u001b[0m \u001b[0;34m=\u001b[0m \u001b[0mx\u001b[0m\u001b[0;34m.\u001b[0m\u001b[0mdecode\u001b[0m\u001b[0;34m(\u001b[0m\u001b[0;34m'utf-8'\u001b[0m\u001b[0;34m)\u001b[0m\u001b[0;34m\u001b[0m\u001b[0m\n\u001b[0m",
      "\u001b[0;31mUnicodeDecodeError\u001b[0m: 'utf-8' codec can't decode byte 0xe2 in position 11: invalid continuation byte"
     ]
    }
   ],
   "source": [
    "x = b'%PDF-1.3\\r\\n%\\xe2\\xe3\\xcf\\xd3\\r\\n\\r\\n1 0 obj\\r\\n<<\\r\\n/Type /Catalog\\r\\n/Outlines 2 0 R\\r\\n/Pages 3 0 R\\r\\n>>\\r\\nendobj\\r\\n\\r\\n2 0 obj\\r\\n<<\\r\\n/Type /Outlines\\r\\n/Count 0\\r\\n>>\\r\\nendobj\\r\\n\\r\\n3 0 obj\\r\\n<<\\r\\n/Type /Pages\\r\\n/Count 2\\r\\n/Kids [ 4 0 R 6 0 R ] \\r\\n>>\\r\\nendobj\\r\\n\\r\\n4 0 obj\\r\\n<<\\r\\n/Type /Page\\r\\n/Parent 3 0 R\\r\\n/Resources <<\\r\\n/Font <<\\r\\n/F1 9 0 R \\r\\n>>\\r\\n/ProcSet 8 0 R\\r\\n>>\\r\\n/MediaBox [0 0 612.0000 792.0000]\\r\\n/Contents 5 0 R\\r\\n>>\\r\\nendobj\\r\\n\\r\\n5 0 obj\\r\\n<< /Length 1074 >>\\r\\nstream\\r\\n2 J\\r\\nBT\\r\\n0 0 0 rg\\r\\n/F1 0027 Tf\\r\\n57.3750 722.2800 Td\\r\\n( A Simple PDF File ) Tj\\r\\nET\\r\\nBT'\n",
    "p = x.decode('utf-8')"
   ]
  },
  {
   "cell_type": "code",
   "execution_count": 48,
   "metadata": {},
   "outputs": [
    {
     "name": "stdout",
     "output_type": "stream",
     "text": [
      "a= 103\n",
      "b= 111\n",
      "a= 116\n",
      "b= 111\n",
      "0b10000100100100\n"
     ]
    }
   ],
   "source": [
    "def chksum(msg):\n",
    "    s = 0       # Binary Sum\n",
    "\n",
    "    # loop taking 2 characters at a time\n",
    "    for i in range(0, len(msg), 2):\n",
    "        if (i+1) < len(msg):\n",
    "            a = ord(msg[i]) \n",
    "            b = ord(msg[i+1])\n",
    "            print(\"a=\", a)\n",
    "            print(\"b=\", b)\n",
    "            s = s + (a+(b << 8))\n",
    "        elif (i+1)==len(msg):\n",
    "            s += ord(msg[i])\n",
    "        else:\n",
    "            raise \"Something Wrong here\"\n",
    "\n",
    "\n",
    "    # One's Complement\n",
    "    s = s + (s >> 16)\n",
    "    s = ~s & 0xffff\n",
    "\n",
    "    return bin(s)\n",
    "\n",
    "msg = \"goto\"\n",
    "print(chksum(msg))"
   ]
  },
  {
   "cell_type": "code",
   "execution_count": 53,
   "metadata": {},
   "outputs": [
    {
     "name": "stdout",
     "output_type": "stream",
     "text": [
      "<class 'int'>\n",
      "8484\n"
     ]
    }
   ],
   "source": [
    "def chksum(msg):\n",
    "    s = 0       # Binary Sum\n",
    "\n",
    "    # loop taking 2 characters at a time\n",
    "    for i in range(0, len(msg), 2):\n",
    "        if (i+1) < len(msg):\n",
    "            a = msg[i]\n",
    "            b = msg[i+1]\n",
    "            s = s + (a+(b << 8))\n",
    "        elif (i+1)==len(msg):\n",
    "            s += ord(msg[i])\n",
    "        else:\n",
    "            raise \"Something Wrong here\"\n",
    "\n",
    "\n",
    "    # One's Complement\n",
    "    s = s + (s >> 16)\n",
    "    s = ~s & 0xffff\n",
    "\n",
    "    return s\n",
    "\n",
    "msg = b\"goto\"\n",
    "print(type(chksum(msg)))\n",
    "print(chksum(msg))"
   ]
  },
  {
   "cell_type": "code",
   "execution_count": 55,
   "metadata": {},
   "outputs": [
    {
     "ename": "ValueError",
     "evalue": "bytes must be in range(0, 256)",
     "output_type": "error",
     "traceback": [
      "\u001b[0;31m-----------------------------------------------------------\u001b[0m",
      "\u001b[0;31mValueError\u001b[0m                Traceback (most recent call last)",
      "\u001b[0;32m<ipython-input-55-c3aec31fe9c7>\u001b[0m in \u001b[0;36m<module>\u001b[0;34m()\u001b[0m\n\u001b[1;32m      1\u001b[0m \u001b[0ma\u001b[0m \u001b[0;34m=\u001b[0m \u001b[0;36m23553\u001b[0m\u001b[0;34m\u001b[0m\u001b[0m\n\u001b[0;32m----> 2\u001b[0;31m \u001b[0mprint\u001b[0m\u001b[0;34m(\u001b[0m\u001b[0mbytes\u001b[0m\u001b[0;34m(\u001b[0m\u001b[0;34m[\u001b[0m\u001b[0;36m23553\u001b[0m\u001b[0;34m]\u001b[0m\u001b[0;34m)\u001b[0m\u001b[0;34m)\u001b[0m\u001b[0;34m\u001b[0m\u001b[0m\n\u001b[0m",
      "\u001b[0;31mValueError\u001b[0m: bytes must be in range(0, 256)"
     ]
    }
   ],
   "source": [
    "a = 23553\n",
    "print(bytes([23553]))"
   ]
  },
  {
   "cell_type": "code",
   "execution_count": 61,
   "metadata": {},
   "outputs": [
    {
     "name": "stdout",
     "output_type": "stream",
     "text": [
      "0b101110000000001\n",
      "0b1011100\n",
      "0b1\n"
     ]
    }
   ],
   "source": [
    "print(bin(23553))\n",
    "print(bin(23553 // 256))\n",
    "print(bin(23553 % 256))"
   ]
  },
  {
   "cell_type": "code",
   "execution_count": null,
   "metadata": {},
   "outputs": [],
   "source": []
  },
  {
   "cell_type": "code",
   "execution_count": 1,
   "metadata": {},
   "outputs": [
    {
     "ename": "NameError",
     "evalue": "name 'dd' is not defined",
     "output_type": "error",
     "traceback": [
      "\u001b[0;31m---------------------------------------------------------------------------\u001b[0m",
      "\u001b[0;31mNameError\u001b[0m                                 Traceback (most recent call last)",
      "\u001b[0;32m<ipython-input-1-06f342d4bc0b>\u001b[0m in \u001b[0;36m<module>\u001b[0;34m\u001b[0m\n\u001b[0;32m----> 1\u001b[0;31m \u001b[0mdd\u001b[0m\u001b[0;34m\u001b[0m\u001b[0m\n\u001b[0m",
      "\u001b[0;31mNameError\u001b[0m: name 'dd' is not defined"
     ]
    }
   ],
   "source": [
    "dd"
   ]
  },
  {
   "cell_type": "code",
   "execution_count": null,
   "metadata": {},
   "outputs": [],
   "source": []
  }
 ],
 "metadata": {
  "kernelspec": {
   "display_name": "Python 3",
   "language": "python",
   "name": "python3"
  },
  "language_info": {
   "codemirror_mode": {
    "name": "ipython",
    "version": 3
   },
   "file_extension": ".py",
   "mimetype": "text/x-python",
   "name": "python",
   "nbconvert_exporter": "python",
   "pygments_lexer": "ipython3",
   "version": "3.6.4"
  }
 },
 "nbformat": 4,
 "nbformat_minor": 2
}
